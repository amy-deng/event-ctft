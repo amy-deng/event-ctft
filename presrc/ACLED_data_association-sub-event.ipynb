{
 "cells": [
  {
   "cell_type": "code",
   "execution_count": 167,
   "id": "0602746f",
   "metadata": {},
   "outputs": [],
   "source": [
    "import pandas as pd\n",
    "import numpy as np\n",
    "import matplotlib as mpl\n",
    "import matplotlib.pyplot as plt\n",
    "from datetime import date, timedelta\n",
    "from matplotlib.pyplot import cm\n",
    "from scipy.stats import pearsonr,spearmanr\n",
    "\n",
    "from minepy import MINE\n",
    "from minepy import pstats, cstats\n",
    "\n",
    "%matplotlib inline\n"
   ]
  },
  {
   "cell_type": "code",
   "execution_count": 178,
   "id": "bee68a0c",
   "metadata": {},
   "outputs": [
    {
     "name": "stderr",
     "output_type": "stream",
     "text": [
      "/home/sdeng/anaconda2/envs/jupyter/lib/python3.7/site-packages/ipykernel_launcher.py:5: DeprecationWarning: `np.float` is a deprecated alias for the builtin `float`. To silence this warning, use `float` by itself. Doing this will not modify any behavior and is safe. If you specifically wanted the numpy scalar type, use `np.float64` here.\n",
      "Deprecated in NumPy 1.20; for more details and guidance: https://numpy.org/devdocs/release/1.20.0-notes.html#deprecations\n",
      "  \"\"\"\n"
     ]
    },
    {
     "name": "stdout",
     "output_type": "stream",
     "text": [
      "Without noise:\n",
      "1.0000000000000033\n"
     ]
    }
   ],
   "source": [
    "x = np.linspace(0, 1, 1000)\n",
    "y = np.sin(10 * np.pi * x) + x**2 #+ np.random.randint(2, size=1000)\n",
    "y = x**2\n",
    "mine = MINE(alpha=0.9, c=15, est=\"mic_e\")\n",
    "mine.compute_score(x, y)\n",
    "\n",
    "print (\"Without noise:\")\n",
    "print(mine.mic())"
   ]
  },
  {
   "cell_type": "code",
   "execution_count": 223,
   "id": "ac4cb4a5",
   "metadata": {},
   "outputs": [
    {
     "name": "stdout",
     "output_type": "stream",
     "text": [
      "path ~/data/ACLED/country-jul23/2018-01-01-2021-07-23-Brazil.csv filename 2018-01-01-2021-07-23-Brazil.csv\n",
      "Index(['data_id', 'iso', 'event_id_cnty', 'event_id_no_cnty', 'event_date',\n",
      "       'year', 'time_precision', 'event_type', 'sub_event_type', 'actor1',\n",
      "       'assoc_actor_1', 'inter1', 'actor2', 'assoc_actor_2', 'inter2',\n",
      "       'interaction', 'region', 'country', 'admin1', 'admin2', 'admin3',\n",
      "       'location', 'latitude', 'longitude', 'geo_precision', 'source',\n",
      "       'source_scale', 'notes', 'fatalities', 'timestamp', 'iso3'],\n",
      "      dtype='object')\n",
      "year\n",
      "2018    16498\n",
      "2019    11252\n",
      "2020    10078\n",
      "2021     6371\n",
      "dtype: int64\n"
     ]
    }
   ],
   "source": [
    "path = '~/data/ACLED/country-jul23/2017-01-01-2021-07-23-Afghanistan.csv'\n",
    "path = '~/data/ACLED/country-jul23/2018-01-01-2021-07-23-Brazil.csv'\n",
    "# path = '~/data/ACLED/country-jul23/2015-01-01-2021-07-23-Yemen.csv'\n",
    "# path = '~/data/ACLED/country-jul23/2016-01-01-2021-07-23-Turkey.csv'\n",
    "# path = '~/data/ACLED/country-jul23/2020-01-01-2021-07-23-United_States.csv'\n",
    "# path = '~/data/ACLED/country-jul23/2017-01-01-2021-07-23-Syria.csv'\n",
    "\n",
    "filename = path.split('/')[-1]\n",
    "print('path',path,'filename',filename)\n",
    "start_year = int(filename.split('-')[0])\n",
    "start_month = int(filename.split('-')[1])\n",
    "start_day = int(filename.split('-')[2])\n",
    "end_year = int(filename.split('-')[3])\n",
    "end_month = int(filename.split('-')[4])\n",
    "end_day = int(filename.split('-')[5])\n",
    "\n",
    "df = pd.read_csv(path,sep=';')\n",
    "df = df.drop_duplicates(subset=['data_id'], keep='first')\n",
    "df['event_date'] = pd.to_datetime(df['event_date'])\n",
    "print(df.columns)\n",
    "\n",
    "df.sort_values(by=['event_date'],inplace=True ) \n",
    "print(df.value_counts('year'))\n",
    "# print(df['admin1'].unique().shape)\n",
    "# df.value_counts('admin1')\n",
    "# df.value_counts('sub_event_type')"
   ]
  },
  {
   "cell_type": "code",
   "execution_count": 224,
   "id": "1940345d",
   "metadata": {},
   "outputs": [
    {
     "name": "stdout",
     "output_type": "stream",
     "text": [
      "18 ['Remote explosive/landmine/IED' 'Armed clash' 'Mob violence'\n",
      " 'Peaceful protest' 'Attack' 'Violent demonstration'\n",
      " 'Disrupted weapons use' 'Looting/property destruction'\n",
      " 'Protest with intervention' 'Arrests' 'Abduction/forced disappearance'\n",
      " 'Non-violent transfer of territory' 'Sexual violence'\n",
      " 'Change to group/activity' 'Other' 'Excessive force against protesters'\n",
      " 'Grenade' 'Chemical weapon']\n",
      "n_days = 1300\n"
     ]
    }
   ],
   "source": [
    "event_type_column = 'sub_event_type'\n",
    "# event_type_column = 'event_type'\n",
    "delta_value = 1\n",
    "if delta_value == 1:\n",
    "    level = 'day'\n",
    "elif delta_value == 7:\n",
    "    level = 'week'\n",
    "elif delta_value == 14:\n",
    "    level = 'biweek'\n",
    "elif delta_value == 30:\n",
    "    level = 'month'\n",
    "subevents = df[event_type_column].unique()\n",
    "print(len(subevents),subevents)\n",
    "subevent_count_dict = {}\n",
    "start_date = date(start_year, start_month, start_day)\n",
    "end_date = date(end_year, end_month, end_day)\n",
    "delta = timedelta(days=delta_value)\n",
    "n_days = 0\n",
    "last_date = start_date - delta\n",
    "while start_date <= end_date:\n",
    "#     print('last_date',last_date,'start_date',start_date )\n",
    "    last_date = start_date\n",
    "    start_date += delta\n",
    "    n_days += 1\n",
    "print('n_days =',n_days)\n",
    "# print('n_days =',len(df['event_date'].unique()))\n",
    "for v in subevents:\n",
    "    subevent_count_dict[v] = np.array([0 for i in range(n_days)])\n"
   ]
  },
  {
   "cell_type": "code",
   "execution_count": 225,
   "id": "2532deac",
   "metadata": {},
   "outputs": [
    {
     "name": "stdout",
     "output_type": "stream",
     "text": [
      "# 31 44199\n",
      "# 17 44199\n",
      "# 33 44199\n",
      "# 31 44199\n",
      "# 36 44199\n",
      "day_i = 1300\n"
     ]
    }
   ],
   "source": [
    "# for loop day.... save count of each subevent.\n",
    "start_date = date(start_year, start_month, start_day)\n",
    "end_date = date(end_year, end_month, end_day)\n",
    "delta = timedelta(days=delta_value)\n",
    "day_i = 0\n",
    "last_date = start_date - delta\n",
    "# print('last_date',last_date,'start_date',start_date,'end_date',end_date)\n",
    "\n",
    "while start_date <= end_date:\n",
    "    last_date_str = last_date.strftime(\"%Y-%m-%d\") #(\"%d %B %Y\")\n",
    "    date_str = start_date.strftime(\"%Y-%m-%d\")\n",
    "#     print('last_date_str',last_date_str,' --- date_str',date_str)\n",
    "    df_day = df.loc[(df['event_date'] > last_date_str) & (df['event_date'] <= date_str)]\n",
    "    if day_i%300==0:\n",
    "        print('#',len(df_day),len(df))\n",
    "    df_count = df_day[event_type_column].value_counts().rename_axis('unique_values').reset_index(name='counts')\n",
    "    for i,row in df_count.iterrows():\n",
    "        subevent_count_dict[row['unique_values']][day_i] = row['counts']\n",
    "    last_date = start_date\n",
    "    start_date += delta\n",
    "    day_i += 1\n",
    "print('day_i =',day_i)"
   ]
  },
  {
   "cell_type": "code",
   "execution_count": 226,
   "id": "b38fa68b",
   "metadata": {},
   "outputs": [
    {
     "data": {
      "text/plain": [
       "array([0, 0, 0, ..., 0, 0, 0])"
      ]
     },
     "execution_count": 226,
     "metadata": {},
     "output_type": "execute_result"
    }
   ],
   "source": [
    "subevent_count_dict['Armed clash']\n",
    "subevent_count_dict['Other']"
   ]
  },
  {
   "cell_type": "code",
   "execution_count": 227,
   "id": "e1ffbc5c",
   "metadata": {},
   "outputs": [
    {
     "name": "stdout",
     "output_type": "stream",
     "text": [
      "mean 0.9646153846153847 (1300,)\n"
     ]
    }
   ],
   "source": [
    "# get outcome variable \n",
    "protests_count = subevent_count_dict['Protest with intervention'] + subevent_count_dict['Peaceful protest'] + subevent_count_dict['Excessive force against protesters']\n",
    "protests_count = np.where(protests_count < 1, 0, 1)\n",
    "print('mean',protests_count.mean(),protests_count.shape)\n",
    "\n",
    "# get treatment variables\n",
    "def get_avg(x,day=8):\n",
    "    r = []\n",
    "    for i in range(0,len(x),day):\n",
    "        avg = x[i:i+day].mean()\n",
    "        r += [avg for i in range(day)]\n",
    "    r = np.array(r)\n",
    "#     print(r)\n",
    "    return r\n",
    "# protests_count[16:].shape\n",
    "         "
   ]
  },
  {
   "cell_type": "code",
   "execution_count": 228,
   "id": "13fba181",
   "metadata": {},
   "outputs": [
    {
     "name": "stdout",
     "output_type": "stream",
     "text": [
      "[1 1 1 ... 0 0 0] (1273,)\n"
     ]
    }
   ],
   "source": [
    "def moving_average(a, n=3) :\n",
    "    padding = []\n",
    "    for i in range(n-1):\n",
    "        padding.append(a[:i+1].mean())\n",
    "    padding = np.array(padding)\n",
    "#     print('padding',padding,padding.shape)\n",
    "    ret = np.cumsum(a, dtype=float)\n",
    "    ret[n:] = ret[n:] - ret[:-n]\n",
    "    return np.concatenate((padding, ret[n - 1:] / n),0)\n",
    "event_set_protest = ['Protest with intervention','Excessive force against protesters','Peaceful protest']\n",
    "subevent_count_dict['Protests'] = subevent_count_dict['Protest with intervention'] + subevent_count_dict['Peaceful protest'] + subevent_count_dict['Excessive force against protesters']\n",
    "bi_trend_dict = {}\n",
    "ma_day = 14\n",
    "subevents = list(subevents) +['Protests']\n",
    "for i in range(len(subevents)):\n",
    "    if subevents[i] in event_set_protest:\n",
    "        continue\n",
    "    count_data = subevent_count_dict[subevents[i]]\n",
    "#     count_data = np.array([1,1,1,2,4,4,5,6,8,8,2,12,0,0,1,0,2,0,24,10,5,6,8,8,2,10,5,6,8,8,2,10,5,6,8,8,2])\n",
    "    ma = moving_average(count_data,ma_day)\n",
    "    cur_trend = ma[ma_day*2-1:]\n",
    "    prev_trend = ma[ma_day-1:ma_day-1+len(cur_trend)]\n",
    "#     print(prev_trend,'prev')\n",
    "#     print(cur_trend,'curr')\n",
    "    bi_trend = np.where((cur_trend-prev_trend)>0,1,0)\n",
    "    bi_trend_dict[subevents[i]] = bi_trend\n",
    "#     break\n",
    "print(bi_trend[:],bi_trend.shape)\n",
    "\n"
   ]
  },
  {
   "cell_type": "code",
   "execution_count": 229,
   "id": "d098537f",
   "metadata": {
    "scrolled": true
   },
   "outputs": [
    {
     "data": {
      "text/plain": [
       "{'Remote explosive/landmine/IED': array([0, 0, 0, ..., 0, 0, 0]),\n",
       " 'Armed clash': array([0, 0, 0, ..., 1, 0, 0]),\n",
       " 'Mob violence': array([1, 1, 1, ..., 0, 0, 0]),\n",
       " 'Attack': array([0, 1, 1, ..., 1, 0, 0]),\n",
       " 'Violent demonstration': array([1, 1, 1, ..., 0, 0, 1]),\n",
       " 'Disrupted weapons use': array([0, 0, 0, ..., 0, 0, 0]),\n",
       " 'Looting/property destruction': array([1, 1, 1, ..., 0, 0, 0]),\n",
       " 'Arrests': array([0, 0, 0, ..., 0, 0, 0]),\n",
       " 'Abduction/forced disappearance': array([1, 1, 1, ..., 0, 1, 1]),\n",
       " 'Non-violent transfer of territory': array([0, 0, 0, ..., 0, 0, 0]),\n",
       " 'Sexual violence': array([0, 0, 0, ..., 0, 0, 0]),\n",
       " 'Change to group/activity': array([0, 0, 0, ..., 0, 0, 0]),\n",
       " 'Other': array([0, 0, 0, ..., 0, 0, 0]),\n",
       " 'Grenade': array([0, 0, 0, ..., 0, 0, 0]),\n",
       " 'Chemical weapon': array([0, 0, 0, ..., 0, 0, 0]),\n",
       " 'Protests': array([1, 1, 1, ..., 0, 0, 0])}"
      ]
     },
     "execution_count": 229,
     "metadata": {},
     "output_type": "execute_result"
    }
   ],
   "source": [
    "bi_trend_dict"
   ]
  },
  {
   "cell_type": "code",
   "execution_count": 230,
   "id": "1db69094",
   "metadata": {},
   "outputs": [
    {
     "name": "stdout",
     "output_type": "stream",
     "text": [
      "(1272,)\n",
      "Remote explosive/landmine/IED pearsonr -3.8891848834379292 0.16567278107477704 False\n",
      "Remote explosive/landmine/IED spearmanr -3.889184883437926 0.16567278107443204 False\n",
      "0.10695044910324386\n",
      "Armed clash pearsonr 0.2083504225953995 0.9408230548275984 False\n",
      "Armed clash spearmanr 0.20835042259540762 0.9408230548254839 False\n",
      "0.0003131179477555733\n",
      "Mob violence pearsonr 2.1139701897786094 0.4512740426575188 False\n",
      "Mob violence spearmanr 2.113970189778611 0.45127404265652593 False\n",
      "0.03257790278347102\n",
      "Attack pearsonr -0.4465623653537555 0.8735812922724857 False\n",
      "Attack spearmanr -0.4465623653537522 0.8735812922706838 False\n",
      "0.001438110764874733\n",
      "Violent demonstration pearsonr -1.1581766719167097 0.6798464229978743 False\n",
      "Violent demonstration spearmanr -1.1581766719167033 0.6798464229963883 False\n",
      "0.00967580792509868\n",
      "Disrupted weapons use pearsonr 0.9037358372717113 0.7474465885083447 False\n",
      "Disrupted weapons use spearmanr 0.9037358372717118 0.7474465885068602 False\n",
      "0.005989213416879837\n",
      "Looting/property destruction pearsonr 0.6801578191012656 0.8085141345611659 False\n",
      "Looting/property destruction spearmanr 0.6801578191012704 0.8085141345594282 False\n",
      "0.0033420127022093732\n",
      "Arrests pearsonr 1.9474687200660992 0.4877136986000881 False\n",
      "Arrests spearmanr 1.9474687200661023 0.48771369859902747 False\n",
      "0.028022493616257506\n",
      "Abduction/forced disappearance pearsonr 3.4439808992949 0.21965122650452795 False\n",
      "Abduction/forced disappearance spearmanr 3.4439808992949037 0.21965122650406976 False\n",
      "0.08917000891616024\n",
      "Non-violent transfer of territory pearsonr 3.497834397951191 0.2125216614136825 False\n",
      "Non-violent transfer of territory spearmanr 3.497834397951193 0.21252166141321902 False\n",
      "0.17057924999695342\n",
      "Sexual violence pearsonr -4.638681817877104 0.098197714422263 False\n",
      "Sexual violence spearmanr -4.638681817877109 0.09819771442205624 False\n",
      "0.14548873124733058\n",
      "Change to group/activity pearsonr -2.4641703866958484 0.3798794965465324 False\n",
      "Change to group/activity spearmanr -2.464170386695845 0.3798794965457464 False\n",
      "0.04136699157159324\n",
      "Other pearsonr 3.917572189173545 0.16260347467655595 False\n",
      "Other spearmanr 3.9175721891735513 0.1626034746762162 False\n",
      "0.12544636021049907\n",
      "Grenade pearsonr 1.3622856064811677 0.6273887342556295 False\n",
      "Grenade spearmanr 1.3622856064811708 0.6273887342542926 False\n",
      "0.015297659320261328\n",
      "Chemical weapon pearsonr 1.9968748725741219 0.47673829994060923 False\n",
      "Chemical weapon spearmanr 1.9968748725741226 0.4767382999396085 False\n",
      "0.05621431976208679\n",
      "Protests pearsonr 1.2747325701916152 0.6496803918614968 False\n",
      "Protests spearmanr 1.2747325701916203 0.6496803918601066 False\n",
      "0.011742077884300314\n"
     ]
    },
    {
     "name": "stderr",
     "output_type": "stream",
     "text": [
      "/home/sdeng/anaconda2/envs/jupyter/lib/python3.7/site-packages/ipykernel_launcher.py:20: DeprecationWarning: `np.float` is a deprecated alias for the builtin `float`. To silence this warning, use `float` by itself. Doing this will not modify any behavior and is safe. If you specifically wanted the numpy scalar type, use `np.float64` here.\n",
      "Deprecated in NumPy 1.20; for more details and guidance: https://numpy.org/devdocs/release/1.20.0-notes.html#deprecations\n"
     ]
    }
   ],
   "source": [
    "# get association\n",
    "data2 = protests_count[ma_day*2:]\n",
    "print(data2.shape)\n",
    "\n",
    "# x = np.linspace(0, 1, 1000)\n",
    "# y = np.sin(10 * np.pi * x) + x\n",
    "\n",
    "\n",
    "\n",
    "for i in range(len(subevents)):\n",
    "    if subevents[i] in event_set_protest:\n",
    "        continue\n",
    "    data1 = bi_trend_dict[subevents[i]][:-1]\n",
    "    corr, p = pearsonr(data1, data2)\n",
    "    print(subevents[i],'pearsonr',corr*100,p,(p<0.05))\n",
    "    corr, p = spearmanr(data1, data2)\n",
    "    print(subevents[i],'spearmanr',corr*100,p,(p<0.05))\n",
    "    \n",
    "    mine = MINE(alpha=0.6, c=15, est=\"mic_e\")\n",
    "    mine.compute_score(data1, data2)\n",
    "#     mic_p, tic_p = cstats(data1, data1, alpha=0.6, c=15, est=\"mic_e\")\n",
    "    print(mine.mic()*100)"
   ]
  },
  {
   "cell_type": "code",
   "execution_count": 118,
   "id": "f8689091",
   "metadata": {},
   "outputs": [
    {
     "data": {
      "text/plain": [
       "0.2565668906536347"
      ]
     },
     "execution_count": 118,
     "metadata": {},
     "output_type": "execute_result"
    }
   ],
   "source": [
    "data2.mean()"
   ]
  },
  {
   "cell_type": "code",
   "execution_count": 115,
   "id": "7d9b3db7",
   "metadata": {},
   "outputs": [],
   "source": [
    "# # check moving average\n",
    "# def movingaverage(interval, window_size):\n",
    "#     window = np.ones(int(window_size))/float(window_size)\n",
    "#     return np.convolve(interval, window, 'same')\n",
    "\n",
    "# t = np.arange(1, day_i+1, 1) \n",
    "# color=cm.rainbow(np.linspace(0,1,len(subevents)))\n",
    "\n",
    "# fig, axs = plt.subplots(1, 1,figsize=(16, 8))\n",
    "# event_set_protest = ['Protest with intervention','Excessive force against protesters','Peaceful protest']\n",
    "# event_set = ['Battles', 'Explosions/Remote violence', 'Strategic developments','Violence against civilians', 'Protests', 'Riots']\n",
    "# # event_set = ['Battles', 'Explosions/Remote violence', 'Strategic developments','Violence against civilians', 'Riots']\n",
    "# event_set = [  'Strategic developments','Violence against civilians', 'Protests', 'Riots']\n",
    "\n",
    "# # event_set = ['Violence against civilians', 'Protests', 'Riots']\n",
    "# # event_set = [  'Explosions/Remote violence']\n",
    "# # color2 = ['#080808','#333030','#6e6a6a']\n",
    "# for i in range(len(subevents)):\n",
    "# #     print(subevents[i])\n",
    "#     if subevents[i] in event_set_protest:\n",
    "#         ma_day = 8\n",
    "\n",
    "#         count_data = subevent_count_dict[subevents[i]][:88]\n",
    "#         axs.plot(t[:88], count_data, 's',label=subevents[i])\n",
    "        \n",
    "#         ma = movingaverage(count_data,ma_day)\n",
    "#         cur_label = subevents[i]+'_'+str(ma_day)+'MovAvg'\n",
    "#         if ma_day == 1:\n",
    "#             cur_label = subevents[i]\n",
    "         \n",
    "#         axs.plot(t[:88], ma, 'o-',label=cur_label,color=color[i])\n",
    "# #         avg_data = get_avg(count_data,day=8)\n",
    "# #         axs.plot(t[:88],avg_data, color=color[i],  linestyle='--',label=subevents[i]+'_'+'Avg_of_8_steps')\n",
    "# #         axs.axhline(y=count_data.mean(), color=color[i],  linestyle='--')\n",
    "         \n",
    "\n",
    "# axs.set_xlabel('week',fontsize=16)\n",
    "# axs.set_ylabel('# events',fontsize=16)\n",
    "# axs.grid(True)\n",
    "# axs.legend(prop={'size': 16},ncol=2)\n",
    "# # cxy, f = axs[1].cohere(s1, s2, 256, 1. / dt)\n",
    "# # axs[1].set_ylabel('coherence')\n",
    "# axs.margins(0.01)\n",
    "# axs.set_title('Afghanistan day-level')\n",
    "# axs.set_title('Syria week-level eg')\n",
    "# # axs.set_title('Yemen week-level')\n",
    "\n",
    "# fig.tight_layout()\n",
    "# plt.show()\n",
    "# # fig.savefig(\"Syria_week_main_eg.pdf\", bbox_inches='tight')\n"
   ]
  }
 ],
 "metadata": {
  "kernelspec": {
   "display_name": "Python 3",
   "language": "python",
   "name": "python3"
  },
  "language_info": {
   "codemirror_mode": {
    "name": "ipython",
    "version": 3
   },
   "file_extension": ".py",
   "mimetype": "text/x-python",
   "name": "python",
   "nbconvert_exporter": "python",
   "pygments_lexer": "ipython3",
   "version": "3.7.10"
  }
 },
 "nbformat": 4,
 "nbformat_minor": 5
}
