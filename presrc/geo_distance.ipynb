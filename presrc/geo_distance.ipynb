{
 "cells": [
  {
   "cell_type": "code",
   "execution_count": 35,
   "id": "265ac2ed",
   "metadata": {},
   "outputs": [],
   "source": [
    "import pandas as pd\n",
    "import numpy as np\n",
    "# import matplotlib as mpl\n",
    "# import matplotlib.pyplot as plt\n",
    "from datetime import date, timedelta\n",
    "# from matplotlib.pyplot import cm\n",
    "from scipy.stats import pearsonr,spearmanr\n",
    "import sys\n",
    "import json\n",
    "# from minepy import MINE\n",
    "# from minepy import pstats, cstats\n",
    "import time\n",
    "import pickle \n",
    "from geopy import distance"
   ]
  },
  {
   "cell_type": "code",
   "execution_count": 242,
   "id": "a8387582",
   "metadata": {},
   "outputs": [
    {
     "name": "stdout",
     "output_type": "stream",
     "text": [
      "924326 all\n",
      "259374 >=2010\n",
      "206146 remove dup\n",
      "['Moscow' 'Moscow Kremlin' 'St. Petersburg' 'Sochi' 'Vladivostok'\n",
      " 'Makhachkala' 'Groznyy' 'Volgograd' 'Yekaterinburg' 'Smolensk']\n",
      "[(55.7522, 37.6156), (55.7517, 37.6178), (59.9386, 30.3141), (43.5992, 39.7257), (43.1056, 131.874), (42.9764, 47.5024), (43.312, 45.6889), (48.7194, 44.5018), (56.8519, 60.6122), (54.7818, 32.0401)]\n",
      "[0, 0.14893690163335738, 636.0188745172288, 1360.069604481923, 6434.465162660547, 1588.3915808008728, 1499.5463879038334, 912.065033972418, 1422.085230230153, 370.4055080629688]\n"
     ]
    }
   ],
   "source": [
    "country_name = 'RUS'\n",
    "# country_name = 'GBR'\n",
    "# country_name = 'TUR'\n",
    "# country_name = 'PAK'\n",
    "# country_name = 'IND'\n",
    "# country_name = 'EGY'\n",
    "# country_name = 'THA'\n",
    "\n",
    "if country_name == 'IND':\n",
    "    n_city = 15\n",
    "else:\n",
    "    n_city = 10\n",
    "n_cities = n_city + 1\n",
    "\n",
    "# if len(country_name) <= 3:\n",
    "event_file = '~/data/icews/events.sent.new.1991.201703.country/icews_events_{}.json'.format(country_name)\n",
    "df = pd.read_json(event_file,lines=True)\n",
    "print(len(df),'all')\n",
    "df = df.loc[df['Event Date'] > '2010-01-01']\n",
    "print(len(df),'>=2010')\n",
    "\n",
    "\n",
    "df2 = df.drop_duplicates(subset=['Country', 'CAMEO Code', 'Event Date',\n",
    "         'Story ID',  'Sentence Number' ])\n",
    "print(len(df2),'remove dup')\n",
    "\n",
    "\n",
    "cities = df2['City'].value_counts()[:n_cities].index.tolist()\n",
    "cities = np.array([v for v in cities if v != ''])\n",
    "print(cities)\n",
    "\n",
    "# with open('../data/{}/cities.txt'.format(country_name),'w') as f:\n",
    "#     for c in cities:\n",
    "#         f.write(c+'\\n')\n",
    "    \n",
    "# geo of locs\n",
    "geo_list = []\n",
    "for c in cities:\n",
    "    geo = df2.loc[df2['City']==c][['Latitude','Longitude']].values[0]\n",
    "    geo_list.append(tuple(geo))\n",
    "    \n",
    "    \n",
    "    \n",
    "print(geo_list)\n",
    "loc_distance = []\n",
    "target_index = 0\n",
    "target_geo = geo_list[target_index]\n",
    "for i in range(len(geo_list)):\n",
    "    if i == target_index:\n",
    "        loc_distance.append(0)\n",
    "    else:\n",
    "#         dis = distance.distance(target_geo, geo_list[i]).miles\n",
    "#         print(dis)\n",
    "        dis = distance.distance(target_geo, geo_list[i]).km\n",
    "#         print(dis)\n",
    "#         print()\n",
    "        loc_distance.append(dis)\n",
    "print(loc_distance)"
   ]
  },
  {
   "cell_type": "code",
   "execution_count": 243,
   "id": "facdd1b0",
   "metadata": {},
   "outputs": [],
   "source": [
    "\n",
    "loc_distance = np.array(loc_distance)\n",
    "with open('../data/{}/geo_raw.pkl'.format(country_name),'wb') as f:\n",
    "    pickle.dump(loc_distance,f)\n",
    "    "
   ]
  },
  {
   "cell_type": "code",
   "execution_count": 262,
   "id": "9539c7cc",
   "metadata": {},
   "outputs": [
    {
     "name": "stdout",
     "output_type": "stream",
     "text": [
      "1422.319631953158 1766.0616180397078\n"
     ]
    }
   ],
   "source": [
    " \n",
    "# np.tanh(loc_distance)\n",
    "print(loc_distance.mean(),loc_distance.std() )\n",
    "max_ = loc_distance.max() + 100\n",
    "n = loc_distance/(max_)"
   ]
  },
  {
   "cell_type": "code",
   "execution_count": 269,
   "id": "a1afef52",
   "metadata": {},
   "outputs": [
    {
     "data": {
      "text/plain": [
       "(array([1.        , 0.9999886 , 0.95008791, 0.88986636, 0.1237072 ,\n",
       "        0.87001204, 0.87779118, 0.92758956, 0.88451772, 0.9712441 ]),\n",
       " array([1.00000000e+00, 9.99886043e-01, 5.99291214e-01, 3.11349299e-01,\n",
       "        8.39362892e-10, 2.48457797e-01, 2.71588958e-01, 4.71583405e-01,\n",
       "        2.93133445e-01, 7.46936927e-01]))"
      ]
     },
     "execution_count": 269,
     "metadata": {},
     "output_type": "execute_result"
    }
   ],
   "source": [
    "(1-n)**0.5,(1-n)**5,"
   ]
  },
  {
   "cell_type": "code",
   "execution_count": 234,
   "id": "dbd4251b",
   "metadata": {},
   "outputs": [
    {
     "name": "stdout",
     "output_type": "stream",
     "text": [
      "[0.000e+00 5.144e-01 9.000e-04 5.614e-01 7.846e-01 5.848e-01 1.862e-01\n",
      " 1.061e-01 7.776e-01 3.818e-01 2.275e-01 1.000e+00 2.900e-01 5.253e-01\n",
      " 4.990e-02]\n"
     ]
    },
    {
     "data": {
      "text/plain": [
       "array([ 1.00000100e+00,  2.05931231e+00,  1.00090181e+00,  2.27998696e+00,\n",
       "        4.64254709e+00,  2.40848364e+00,  1.22880466e+00,  1.11869462e+00,\n",
       "        4.49642310e+00,  1.61760210e+00,  1.29450006e+00, -1.00000000e+06,\n",
       "        1.40845269e+00,  2.10659808e+00,  1.05252190e+00])"
      ]
     },
     "execution_count": 234,
     "metadata": {},
     "output_type": "execute_result"
    }
   ],
   "source": [
    "loc_distance_norm = np.array(loc_distance_norm)\n",
    "print(loc_distance_norm)\n",
    "1/(1-loc_distance_norm-1e-6)"
   ]
  },
  {
   "cell_type": "code",
   "execution_count": 174,
   "id": "6466f9a4",
   "metadata": {},
   "outputs": [
    {
     "name": "stdout",
     "output_type": "stream",
     "text": [
      "13363.415087579013\n",
      "[0, 1147.4905310365705, 2.045005838947556, 1252.4406341724418, 1750.318140834992, 1304.5872312341291, 415.4522901281679, 236.6270992829022, 1734.7242195462695, 851.6418759528574, 507.4275371060643, 2230.7439898998446, 646.9022033377101, 1171.799668924483, 111.2146602836332]\n"
     ]
    },
    {
     "data": {
      "text/plain": [
       "array([0.   , 0.086, 0.   , 0.094, 0.131, 0.098, 0.031, 0.018, 0.13 ,\n",
       "       0.064, 0.038, 0.167, 0.048, 0.088, 0.008])"
      ]
     },
     "execution_count": 174,
     "metadata": {},
     "output_type": "execute_result"
    }
   ],
   "source": [
    "total_dis = sum(loc_distance)\n",
    "print(total_dis)\n",
    "print(loc_distance)\n",
    "np.array(loc_distance)/total_dis\n",
    "tmp = [round(v/total_dis,3) for v in loc_distance]\n",
    "tmp = np.array(tmp)\n",
    "tmp"
   ]
  },
  {
   "cell_type": "code",
   "execution_count": 232,
   "id": "84e28812",
   "metadata": {},
   "outputs": [
    {
     "data": {
      "text/plain": [
       "[0,\n",
       " 0.5144,\n",
       " 0.0009,\n",
       " 0.5614,\n",
       " 0.7846,\n",
       " 0.5848,\n",
       " 0.1862,\n",
       " 0.1061,\n",
       " 0.7776,\n",
       " 0.3818,\n",
       " 0.2275,\n",
       " 1.0,\n",
       " 0.29,\n",
       " 0.5253,\n",
       " 0.0499]"
      ]
     },
     "execution_count": 232,
     "metadata": {},
     "output_type": "execute_result"
    }
   ],
   "source": [
    "# del distance\n",
    "loc_distance_norm = []\n",
    "max_dis = max(loc_distance)\n",
    "for d in loc_distance:\n",
    "    if d > 0:\n",
    "        loc_distance_norm.append(round(d/max_dis,4))\n",
    "    else:\n",
    "        loc_distance_norm.append(0)\n",
    "        \n",
    "loc_distance_norm"
   ]
  },
  {
   "cell_type": "code",
   "execution_count": 226,
   "id": "9d85ad8b",
   "metadata": {},
   "outputs": [
    {
     "data": {
      "text/plain": [
       "array([1.000e+00, 2.059e+00, 1.001e+00, 2.280e+00, 4.643e+00, 2.408e+00,\n",
       "       1.229e+00, 1.119e+00, 4.496e+00, 1.618e+00, 1.294e+00, 1.000e+06,\n",
       "       1.408e+00, 2.107e+00, 1.053e+00])"
      ]
     },
     "execution_count": 226,
     "metadata": {},
     "output_type": "execute_result"
    }
   ],
   "source": [
    "loc_distance_norm = np.array(loc_distance_norm)\n",
    "t = [round(v,3) for v in 1/(1-(loc_distance_norm)+1e-6)]\n",
    "t = np.array(t)\n",
    "t"
   ]
  },
  {
   "cell_type": "code",
   "execution_count": 227,
   "id": "93f41651",
   "metadata": {},
   "outputs": [
    {
     "data": {
      "text/plain": [
       "array([0.00000000e+00, 7.22220428e-01, 9.99500333e-04, 8.24175443e-01,\n",
       "       1.53536071e+00, 8.78796527e-01, 2.06200831e-01, 1.12435429e-01,\n",
       "       1.50318811e+00, 4.81190819e-01, 2.57738196e-01, 1.38155106e+01,\n",
       "       3.42170258e-01, 7.45265135e-01, 5.16432332e-02])"
      ]
     },
     "execution_count": 227,
     "metadata": {},
     "output_type": "execute_result"
    }
   ],
   "source": [
    "import math\n",
    "\n",
    "# def sigmoid(x):\n",
    "#     return 1 / (1 + math.exp(-x))\n",
    "def sigmoid_array(x):                                        \n",
    "    return 1 / (1 + np.exp(-x))\n",
    "\n",
    "# sigmoid_array(t)\n",
    "np.tanh(t)\n",
    "np.log(t)"
   ]
  },
  {
   "cell_type": "code",
   "execution_count": 235,
   "id": "cc17fc96",
   "metadata": {},
   "outputs": [],
   "source": []
  },
  {
   "cell_type": "code",
   "execution_count": 132,
   "id": "f655acd2",
   "metadata": {},
   "outputs": [],
   "source": [
    "with open('../data/{}/geo_dis.pkl'.format(country_name),'wb') as f:\n",
    "    pickle.dump(loc_distance_norm,f)\n",
    "    "
   ]
  },
  {
   "cell_type": "code",
   "execution_count": 133,
   "id": "629f6abd",
   "metadata": {},
   "outputs": [
    {
     "data": {
      "text/plain": [
       "array([0.    , 0.1046, 0.2208, 0.9401, 0.6295, 0.8642, 0.5564, 1.    ,\n",
       "       0.3031, 0.639 ])"
      ]
     },
     "execution_count": 133,
     "metadata": {},
     "output_type": "execute_result"
    }
   ],
   "source": [
    "with open('../data/{}/geo_dis.pkl'.format(country_name),'rb') as f:\n",
    "    data = pickle.load(f)\n",
    "data"
   ]
  },
  {
   "cell_type": "code",
   "execution_count": 228,
   "id": "e87287df",
   "metadata": {},
   "outputs": [
    {
     "data": {
      "text/plain": [
       "1000000000000.0"
      ]
     },
     "execution_count": 228,
     "metadata": {},
     "output_type": "execute_result"
    }
   ],
   "source": [
    "1/1e-12"
   ]
  },
  {
   "cell_type": "code",
   "execution_count": 140,
   "id": "aa1cbf62",
   "metadata": {},
   "outputs": [
    {
     "name": "stdout",
     "output_type": "stream",
     "text": [
      "Yemen country_name\n"
     ]
    },
    {
     "data": {
      "text/plain": [
       "Index(['data_id', 'iso', 'event_id_cnty', 'event_id_no_cnty', 'event_date',\n",
       "       'year', 'time_precision', 'event_type', 'sub_event_type', 'actor1',\n",
       "       'assoc_actor_1', 'inter1', 'actor2', 'assoc_actor_2', 'inter2',\n",
       "       'interaction', 'region', 'country', 'admin1', 'admin2', 'admin3',\n",
       "       'location', 'latitude', 'longitude', 'geo_precision', 'source',\n",
       "       'source_scale', 'notes', 'fatalities', 'timestamp', 'iso3'],\n",
       "      dtype='object')"
      ]
     },
     "execution_count": 140,
     "metadata": {},
     "output_type": "execute_result"
    }
   ],
   "source": [
    "path = '~/data/ACLED/country-jul23/2017-01-01-2021-07-23-Afghanistan.csv'\n",
    "path = '~/data/ACLED/country-jul23/2018-01-01-2021-07-23-Brazil.csv'\n",
    "path = '~/data/ACLED/country-jul23/2015-01-01-2021-07-23-Yemen.csv'\n",
    "# path = '~/data/ACLED/country-jul23/2018-01-01-2021-07-23-Russia.csv'\n",
    "# path = '~/data/ACLED/country-jul23/2016-01-01-2021-07-23-Turkey.csv'\n",
    "# path = '~/data/ACLED/country-jul23/2020-01-01-2021-07-23-United_States.csv'\n",
    "# path = '~/data/ACLED/country-jul23/2017-01-01-2021-07-23-Syria.csv'\n",
    "\n",
    "country_name = path.split('-')[7][:-4]\n",
    "print(country_name,'country_name')\n",
    " \n",
    "\n",
    "df = pd.read_csv(path,sep=';')\n",
    "df = df.drop_duplicates(subset=['data_id'], keep='first')\n",
    "df['event_date'] = pd.to_datetime(df['event_date']) \n",
    "df.columns"
   ]
  },
  {
   "cell_type": "code",
   "execution_count": 141,
   "id": "da26e687",
   "metadata": {},
   "outputs": [
    {
     "name": "stdout",
     "output_type": "stream",
     "text": [
      "['Al Hudaydah', 'Sadah', 'Taizz', 'Marib', 'Al Jawf', 'Sanaa', 'Hajjah', 'Al Bayda', 'Ad Dali', 'Aden', 'Amanat al Asimah', 'Abyan', 'Shabwah', 'Lahij', 'Ibb']\n",
      "Al Bayda\n",
      "['Al Bayda' 'Al Hudaydah' 'Sadah' 'Taizz' 'Marib' 'Al Jawf' 'Sanaa'\n",
      " 'Hajjah' 'Ad Dali' 'Aden' 'Amanat al Asimah' 'Abyan' 'Shabwah' 'Lahij'\n",
      " 'Ibb']\n"
     ]
    }
   ],
   "source": [
    "n_cities = 15\n",
    "cities = df['admin1'].value_counts()[:n_cities].index.tolist()\n",
    "print(cities)\n",
    "if  country_name == 'Yemen':\n",
    "    print(cities[7])\n",
    "    new_cities = np.concatenate((cities[7:8],cities[:7],cities[8:]))\n",
    "    print(new_cities)\n",
    "    cities = new_cities\n",
    "    \n",
    "# with open('../data/{}/cities.txt'.format(country_name),'w') as f:\n",
    "#     for c in cities:\n",
    "#         f.write(c+'\\n')"
   ]
  },
  {
   "cell_type": "code",
   "execution_count": 130,
   "id": "75ea125e",
   "metadata": {},
   "outputs": [
    {
     "name": "stdout",
     "output_type": "stream",
     "text": [
      "Idleb\n",
      "[35.71163978 36.62262623]\n",
      "Hama\n",
      "[35.35219238 36.67303294]\n",
      "Aleppo\n",
      "[36.33187864 37.17182317]\n",
      "Deir ez Zor\n",
      "[34.99716551 40.49717196]\n",
      "Rural Damascus\n",
      "[33.53982176 36.41216   ]\n",
      "Dara\n",
      "[32.74884597 36.1280145 ]\n",
      "Ar Raqqa\n",
      "[36.07587439 38.94605299]\n",
      "Al Hasakeh\n",
      "[36.60915252 40.74388588]\n",
      "Homs\n",
      "[34.78284711 37.21700364]\n",
      "Damascus\n",
      "[33.51611618 36.30231132]\n",
      "[(35.711639781021894, 36.62262622596895), (35.35219237653929, 36.67303293766662), (36.331878635250035, 37.171823173367926), (34.99716550670884, 40.497171964655834), (33.539821760167385, 36.41215999738459), (32.7488459725284, 36.12801449889775), (36.07587439458689, 38.94605299145299), (36.609152519178934, 40.743885880157585), (34.78284711005543, 37.21700364212193), (33.51611618257261, 36.30231132187314)]\n",
      "[0, 40.141977857573586, 84.77591279428506, 360.95188009713723, 241.69957922880553, 331.7954908518547, 213.62127690788137, 383.9375562330946, 116.38072468093328, 245.32210457664243]\n"
     ]
    }
   ],
   "source": [
    "geo_list = []\n",
    "for c in cities:\n",
    "    print(c)\n",
    "    geo = df.loc[df['admin1']==c][['latitude', 'longitude']].values\n",
    "#     print(geo.mean(0),geo.std(0))\n",
    "    geo = geo.mean(0)\n",
    "    geo_list.append(tuple(geo))\n",
    "    print(geo)\n",
    "    \n",
    "print(geo_list)\n",
    "loc_distance = []\n",
    "target_index = 0\n",
    "target_geo = geo_list[target_index]\n",
    "for i in range(len(geo_list)):\n",
    "    if i == target_index:\n",
    "        loc_distance.append(0)\n",
    "    else:\n",
    "#         dis = distance.distance(target_geo, geo_list[i]).miles\n",
    "#         print(dis)\n",
    "        dis = distance.distance(target_geo, geo_list[i]).km\n",
    "#         print(dis)\n",
    "#         print()\n",
    "        loc_distance.append(dis)\n",
    "print(loc_distance)"
   ]
  },
  {
   "cell_type": "code",
   "execution_count": 131,
   "id": "f3fb2185",
   "metadata": {},
   "outputs": [],
   "source": [
    "loc_distance_norm = []\n",
    "max_dis = max(loc_distance)\n",
    "for d in loc_distance:\n",
    "    if d > 0:\n",
    "        loc_distance_norm.append(round(d/max_dis,4))\n",
    "    else:\n",
    "        loc_distance_norm.append(0)\n",
    "        \n",
    "loc_distance_norm = np.array(loc_distance_norm)"
   ]
  },
  {
   "cell_type": "code",
   "execution_count": 150,
   "id": "8de8f6b5",
   "metadata": {},
   "outputs": [
    {
     "name": "stderr",
     "output_type": "stream",
     "text": [
      "/home/sdeng/anaconda2/envs/jupyter/lib/python3.7/site-packages/ipykernel_launcher.py:1: RuntimeWarning: divide by zero encountered in true_divide\n",
      "  \"\"\"Entry point for launching an IPython kernel.\n"
     ]
    },
    {
     "data": {
      "text/plain": [
       "(array([        inf, 10.56022945,  5.52898551,  2.06371663,  2.58856235,\n",
       "         2.15713955,  2.79726815,  2.        ,  4.29924117,  2.56494523]),\n",
       " array([0.    , 0.1046, 0.2208, 0.9401, 0.6295, 0.8642, 0.5564, 1.    ,\n",
       "        0.3031, 0.639 ]))"
      ]
     },
     "execution_count": 150,
     "metadata": {},
     "output_type": "execute_result"
    }
   ],
   "source": []
  },
  {
   "cell_type": "code",
   "execution_count": 105,
   "id": "ba9c58a7",
   "metadata": {},
   "outputs": [
    {
     "data": {
      "text/html": [
       "<div>\n",
       "<style scoped>\n",
       "    .dataframe tbody tr th:only-of-type {\n",
       "        vertical-align: middle;\n",
       "    }\n",
       "\n",
       "    .dataframe tbody tr th {\n",
       "        vertical-align: top;\n",
       "    }\n",
       "\n",
       "    .dataframe thead th {\n",
       "        text-align: right;\n",
       "    }\n",
       "</style>\n",
       "<table border=\"1\" class=\"dataframe\">\n",
       "  <thead>\n",
       "    <tr style=\"text-align: right;\">\n",
       "      <th></th>\n",
       "      <th>admin1</th>\n",
       "      <th>admin2</th>\n",
       "      <th>admin3</th>\n",
       "      <th>latitude</th>\n",
       "      <th>longitude</th>\n",
       "    </tr>\n",
       "  </thead>\n",
       "  <tbody>\n",
       "    <tr>\n",
       "      <th>1</th>\n",
       "      <td>Dara</td>\n",
       "      <td>Dara</td>\n",
       "      <td>Dara</td>\n",
       "      <td>32.6241</td>\n",
       "      <td>36.1049</td>\n",
       "    </tr>\n",
       "    <tr>\n",
       "      <th>2</th>\n",
       "      <td>Al Hasakeh</td>\n",
       "      <td>Al Hasakeh</td>\n",
       "      <td>Al Hasakeh</td>\n",
       "      <td>36.5054</td>\n",
       "      <td>40.7429</td>\n",
       "    </tr>\n",
       "    <tr>\n",
       "      <th>3</th>\n",
       "      <td>Ar Raqqa</td>\n",
       "      <td>Ar Raqqa</td>\n",
       "      <td>Ar Raqqa</td>\n",
       "      <td>35.9428</td>\n",
       "      <td>39.0519</td>\n",
       "    </tr>\n",
       "    <tr>\n",
       "      <th>14</th>\n",
       "      <td>Ar Raqqa</td>\n",
       "      <td>Ar Raqqa</td>\n",
       "      <td>Ar Raqqa</td>\n",
       "      <td>35.9360</td>\n",
       "      <td>38.9826</td>\n",
       "    </tr>\n",
       "    <tr>\n",
       "      <th>23</th>\n",
       "      <td>Idleb</td>\n",
       "      <td>Idleb</td>\n",
       "      <td>Idleb</td>\n",
       "      <td>35.8726</td>\n",
       "      <td>36.6313</td>\n",
       "    </tr>\n",
       "    <tr>\n",
       "      <th>...</th>\n",
       "      <td>...</td>\n",
       "      <td>...</td>\n",
       "      <td>...</td>\n",
       "      <td>...</td>\n",
       "      <td>...</td>\n",
       "    </tr>\n",
       "    <tr>\n",
       "      <th>90883</th>\n",
       "      <td>Deir ez Zor</td>\n",
       "      <td>Deir ez Zor</td>\n",
       "      <td>Deir ez Zor</td>\n",
       "      <td>35.3205</td>\n",
       "      <td>40.1738</td>\n",
       "    </tr>\n",
       "    <tr>\n",
       "      <th>90887</th>\n",
       "      <td>Deir ez Zor</td>\n",
       "      <td>Deir ez Zor</td>\n",
       "      <td>Deir ez Zor</td>\n",
       "      <td>35.4251</td>\n",
       "      <td>40.1252</td>\n",
       "    </tr>\n",
       "    <tr>\n",
       "      <th>90903</th>\n",
       "      <td>Deir ez Zor</td>\n",
       "      <td>Deir ez Zor</td>\n",
       "      <td>Deir ez Zor</td>\n",
       "      <td>35.2856</td>\n",
       "      <td>40.1770</td>\n",
       "    </tr>\n",
       "    <tr>\n",
       "      <th>90914</th>\n",
       "      <td>Deir ez Zor</td>\n",
       "      <td>Deir ez Zor</td>\n",
       "      <td>Deir ez Zor</td>\n",
       "      <td>35.3225</td>\n",
       "      <td>40.1556</td>\n",
       "    </tr>\n",
       "    <tr>\n",
       "      <th>90915</th>\n",
       "      <td>Homs</td>\n",
       "      <td>Homs</td>\n",
       "      <td>Homs</td>\n",
       "      <td>34.8008</td>\n",
       "      <td>36.7116</td>\n",
       "    </tr>\n",
       "  </tbody>\n",
       "</table>\n",
       "<p>12953 rows × 5 columns</p>\n",
       "</div>"
      ],
      "text/plain": [
       "            admin1       admin2       admin3  latitude  longitude\n",
       "1             Dara         Dara         Dara   32.6241    36.1049\n",
       "2       Al Hasakeh   Al Hasakeh   Al Hasakeh   36.5054    40.7429\n",
       "3         Ar Raqqa     Ar Raqqa     Ar Raqqa   35.9428    39.0519\n",
       "14        Ar Raqqa     Ar Raqqa     Ar Raqqa   35.9360    38.9826\n",
       "23           Idleb        Idleb        Idleb   35.8726    36.6313\n",
       "...            ...          ...          ...       ...        ...\n",
       "90883  Deir ez Zor  Deir ez Zor  Deir ez Zor   35.3205    40.1738\n",
       "90887  Deir ez Zor  Deir ez Zor  Deir ez Zor   35.4251    40.1252\n",
       "90903  Deir ez Zor  Deir ez Zor  Deir ez Zor   35.2856    40.1770\n",
       "90914  Deir ez Zor  Deir ez Zor  Deir ez Zor   35.3225    40.1556\n",
       "90915         Homs         Homs         Homs   34.8008    36.7116\n",
       "\n",
       "[12953 rows x 5 columns]"
      ]
     },
     "execution_count": 105,
     "metadata": {},
     "output_type": "execute_result"
    }
   ],
   "source": [
    "df.loc[(df['admin1']==df['admin2']) & (df['admin3']==df['admin2'])][['admin1','admin2','admin3','latitude', 'longitude']]"
   ]
  },
  {
   "cell_type": "code",
   "execution_count": 143,
   "id": "573a731e",
   "metadata": {},
   "outputs": [
    {
     "data": {
      "text/plain": [
       "['Al Bayda',\n",
       " 'Al Hudaydah',\n",
       " 'Sadah',\n",
       " 'Taizz',\n",
       " 'Marib',\n",
       " 'Al Jawf',\n",
       " 'Sanaa',\n",
       " 'Hajjah',\n",
       " 'Ad Dali',\n",
       " 'Aden',\n",
       " 'Amanat al Asimah',\n",
       " 'Abyan',\n",
       " 'Shabwah',\n",
       " 'Lahij',\n",
       " 'Ibb']"
      ]
     },
     "execution_count": 143,
     "metadata": {},
     "output_type": "execute_result"
    }
   ],
   "source": [
    "temp = open('../data/{}/cities.txt'.format(country_name)).read().splitlines()\n",
    "temp"
   ]
  },
  {
   "cell_type": "code",
   "execution_count": 164,
   "id": "40f74280",
   "metadata": {},
   "outputs": [
    {
     "name": "stdout",
     "output_type": "stream",
     "text": [
      "[0.     0.1046 0.2208 0.9401 0.6295 0.8642 0.5564 1.     0.3031 0.639 ]\n",
      "[1.     0.8954 0.7792 0.0599 0.3705 0.1358 0.4436 0.     0.6969 0.361 ] o\n"
     ]
    },
    {
     "data": {
      "text/plain": [
       "array([9.99999000e-01, 1.11681805e+00, 1.28336591e+00, 1.66942121e+01,\n",
       "       2.69904805e+00, 7.36371603e+00, 2.25427806e+00, 1.00000000e+06,\n",
       "       1.43492404e+00, 2.77007543e+00])"
      ]
     },
     "execution_count": 164,
     "metadata": {},
     "output_type": "execute_result"
    }
   ],
   "source": [
    "print(loc_distance_norm)\n",
    "\n",
    "o = (1-loc_distance_norm)**1\n",
    "print(o,'o')\n",
    "1/(o+1e-6)"
   ]
  }
 ],
 "metadata": {
  "kernelspec": {
   "display_name": "Python 3",
   "language": "python",
   "name": "python3"
  },
  "language_info": {
   "codemirror_mode": {
    "name": "ipython",
    "version": 3
   },
   "file_extension": ".py",
   "mimetype": "text/x-python",
   "name": "python",
   "nbconvert_exporter": "python",
   "pygments_lexer": "ipython3",
   "version": "3.7.10"
  }
 },
 "nbformat": 4,
 "nbformat_minor": 5
}
