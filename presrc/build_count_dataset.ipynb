{
 "cells": [
  {
   "cell_type": "code",
   "execution_count": 245,
   "id": "cec4def9",
   "metadata": {},
   "outputs": [],
   "source": [
    "import pandas as pd\n",
    "import numpy as np\n",
    "import sklearn\n",
    "import glob\n",
    "import matplotlib as mpl\n",
    "import matplotlib.pyplot as plt\n",
    "from datetime import date, timedelta\n",
    "from matplotlib.pyplot import cm\n",
    "from sklearn.linear_model import LogisticRegression\n",
    "from sklearn.neural_network import MLPClassifier\n",
    "from sklearn.model_selection import train_test_split\n",
    "from sklearn import svm\n",
    "from sklearn.metrics import precision_recall_fscore_support,roc_auc_score,balanced_accuracy_score,precision_recall_curve,auc\n",
    "%matplotlib inline\n"
   ]
  },
  {
   "cell_type": "code",
   "execution_count": 225,
   "id": "5d50cd71",
   "metadata": {},
   "outputs": [
    {
     "name": "stdout",
     "output_type": "stream",
     "text": [
      "path ~/data/ACLED/country-jul23/2017-01-01-2021-07-23-Afghanistan.csv filename 2017-01-01-2021-07-23-Afghanistan.csv Afghanistan country_name\n",
      "Index(['data_id', 'iso', 'event_id_cnty', 'event_id_no_cnty', 'event_date',\n",
      "       'year', 'time_precision', 'event_type', 'sub_event_type', 'actor1',\n",
      "       'assoc_actor_1', 'inter1', 'actor2', 'assoc_actor_2', 'inter2',\n",
      "       'interaction', 'region', 'country', 'admin1', 'admin2', 'admin3',\n",
      "       'location', 'latitude', 'longitude', 'geo_precision', 'source',\n",
      "       'source_scale', 'notes', 'fatalities', 'timestamp', 'iso3'],\n",
      "      dtype='object')\n"
     ]
    }
   ],
   "source": [
    "# ACLED\n",
    "path = '~/data/ACLED/country-jul23/2017-01-01-2021-07-23-Syria.csv'\n",
    "# path = '~/data/ACLED/country-jul23/2015-01-01-2021-07-23-Yemen.csv'\n",
    "path = '~/data/ACLED/country-jul23/2017-01-01-2021-07-23-Afghanistan.csv'\n",
    "\n",
    "country_name = path.split('-')[7][:-4]\n",
    "filename = path.split('/')[-1]\n",
    "print('path',path,'filename',filename,country_name,'country_name')\n",
    "start_year = int(filename.split('-')[0])\n",
    "start_month = int(filename.split('-')[1])\n",
    "start_day = int(filename.split('-')[2])\n",
    "end_year = int(filename.split('-')[3])\n",
    "end_month = int(filename.split('-')[4])\n",
    "end_day = int(filename.split('-')[5])\n",
    "\n",
    "df = pd.read_csv(path,sep=';')\n",
    "df = df.drop_duplicates(subset=['data_id'], keep='first')\n",
    "df['event_date'] = pd.to_datetime(df['event_date'])\n",
    "print(df.columns)\n",
    "df.sort_values(by=['event_date'],inplace=True ) \n"
   ]
  },
  {
   "cell_type": "code",
   "execution_count": 226,
   "id": "6764f9a2",
   "metadata": {},
   "outputs": [
    {
     "name": "stdout",
     "output_type": "stream",
     "text": [
      "24 ['Armed clash' 'Remote explosive/landmine/IED'\n",
      " 'Non-state actor overtakes territory' 'Shelling/artillery/missile attack'\n",
      " 'Attack' 'Air/drone strike' 'Peaceful protest'\n",
      " 'Abduction/forced disappearance' 'Government regains territory'\n",
      " 'Disrupted weapons use' 'Change to group/activity' 'Mob violence'\n",
      " 'Suicide bomb' 'Non-violent transfer of territory'\n",
      " 'Protest with intervention' 'Looting/property destruction' 'Arrests'\n",
      " 'Sexual violence' 'Headquarters or base established' 'Grenade'\n",
      " 'Violent demonstration' 'Agreement' 'Excessive force against protesters'\n",
      " 'Other']\n",
      "n_days = 1665\n"
     ]
    }
   ],
   "source": [
    "event_type_column = 'sub_event_type'\n",
    "# event_type_column = 'event_type'\n",
    "\n",
    "subevents = df[event_type_column].unique()\n",
    "print(len(subevents),subevents)\n",
    "delta_value = 1\n",
    "if delta_value == 1:\n",
    "    level = 'day'\n",
    "elif delta_value == 7:\n",
    "    level = 'week'\n",
    "elif delta_value == 14:\n",
    "    level = 'biweek'\n",
    "elif delta_value == 30:\n",
    "    level = 'month'\n",
    "\n",
    "subevent_count_dict = {}\n",
    "start_date = date(start_year, start_month, start_day)\n",
    "end_date = date(end_year, end_month, end_day)\n",
    "delta = timedelta(days=delta_value)\n",
    "n_days = 0\n",
    "last_date = start_date - delta\n",
    "while start_date <= end_date:\n",
    "    last_date = start_date\n",
    "    start_date += delta\n",
    "    n_days += 1\n",
    "print('n_days =',n_days)\n",
    "for v in subevents:\n",
    "    subevent_count_dict[v] = np.array([0 for i in range(n_days)])\n"
   ]
  },
  {
   "cell_type": "code",
   "execution_count": 227,
   "id": "e76d1eef",
   "metadata": {},
   "outputs": [
    {
     "name": "stdout",
     "output_type": "stream",
     "text": [
      "# 0 46 55854\n",
      "# 300 39 55854\n",
      "# 600 27 55854\n",
      "# 900 41 55854\n",
      "# 1200 14 55854\n",
      "# 1500 33 55854\n",
      "day_i = 1665\n"
     ]
    }
   ],
   "source": [
    "start_date = date(start_year, start_month, start_day)\n",
    "end_date = date(end_year, end_month, end_day)\n",
    "delta = timedelta(days=delta_value)\n",
    "day_i = 0\n",
    "last_date = start_date - delta\n",
    "while start_date <= end_date:\n",
    "    last_date_str = last_date.strftime(\"%Y-%m-%d\") #(\"%d %B %Y\")\n",
    "    date_str = start_date.strftime(\"%Y-%m-%d\")\n",
    "    df_day = df.loc[(df['event_date'] > last_date_str) & (df['event_date'] <= date_str)]\n",
    "    if day_i%300==0:\n",
    "        print('#',day_i,len(df_day),len(df))\n",
    "    df_count = df_day[event_type_column].value_counts().rename_axis('unique_values').reset_index(name='counts')\n",
    "    for i,row in df_count.iterrows():\n",
    "        subevent_count_dict[row['unique_values']][day_i] = row['counts']\n",
    "    last_date = start_date\n",
    "    start_date += delta\n",
    "    day_i += 1\n",
    "print('day_i =',day_i)"
   ]
  },
  {
   "cell_type": "code",
   "execution_count": 228,
   "id": "96e6c8c9",
   "metadata": {},
   "outputs": [],
   "source": [
    "def movingaverage(a, n=3) :\n",
    "    padding = []\n",
    "    for i in range(n-1):\n",
    "        padding.append(a[:i+1].mean())\n",
    "    padding = np.array(padding)\n",
    "    ret = np.cumsum(a, dtype=float)\n",
    "    ret[n:] = ret[n:] - ret[:-n]\n",
    "    return np.concatenate((padding, ret[n - 1:] / n),0)"
   ]
  },
  {
   "cell_type": "code",
   "execution_count": 229,
   "id": "d1a3c485",
   "metadata": {},
   "outputs": [
    {
     "data": {
      "text/plain": [
       "{'Armed clash': array([21, 33, 21, ...,  2, 13,  2]),\n",
       " 'Remote explosive/landmine/IED': array([13,  9,  4, ...,  1,  0,  0]),\n",
       " 'Non-state actor overtakes territory': array([1, 2, 2, ..., 0, 0, 0]),\n",
       " 'Shelling/artillery/missile attack': array([4, 3, 0, ..., 2, 0, 1]),\n",
       " 'Attack': array([2, 1, 3, ..., 0, 1, 0]),\n",
       " 'Air/drone strike': array([4, 6, 1, ..., 3, 4, 0]),\n",
       " 'Peaceful protest': array([1, 0, 1, ..., 1, 0, 0]),\n",
       " 'Abduction/forced disappearance': array([0, 1, 0, ..., 0, 0, 0]),\n",
       " 'Government regains territory': array([0, 1, 0, ..., 0, 0, 2]),\n",
       " 'Disrupted weapons use': array([0, 1, 0, ..., 0, 0, 0]),\n",
       " 'Change to group/activity': array([0, 0, 1, ..., 0, 0, 0]),\n",
       " 'Mob violence': array([0, 0, 1, ..., 0, 0, 0]),\n",
       " 'Suicide bomb': array([0, 0, 0, ..., 0, 0, 0]),\n",
       " 'Non-violent transfer of territory': array([0, 0, 0, ..., 0, 2, 0]),\n",
       " 'Protest with intervention': array([0, 0, 0, ..., 0, 0, 0]),\n",
       " 'Looting/property destruction': array([0, 0, 0, ..., 0, 0, 0]),\n",
       " 'Arrests': array([0, 0, 0, ..., 0, 0, 0]),\n",
       " 'Sexual violence': array([0, 0, 0, ..., 0, 0, 0]),\n",
       " 'Headquarters or base established': array([0, 0, 0, ..., 0, 0, 0]),\n",
       " 'Grenade': array([0, 0, 0, ..., 0, 0, 0]),\n",
       " 'Violent demonstration': array([0, 0, 0, ..., 0, 0, 0]),\n",
       " 'Agreement': array([0, 0, 0, ..., 5, 0, 0]),\n",
       " 'Excessive force against protesters': array([0, 0, 0, ..., 0, 0, 0]),\n",
       " 'Other': array([0, 0, 0, ..., 0, 0, 0]),\n",
       " 'Protests': array([1, 0, 1, ..., 1, 0, 0])}"
      ]
     },
     "execution_count": 229,
     "metadata": {},
     "output_type": "execute_result"
    }
   ],
   "source": [
    "event_set_protest = ['Protest with intervention','Excessive force against protesters','Peaceful protest']\n",
    "subevent_count_dict['Protests'] = subevent_count_dict['Protest with intervention'] + subevent_count_dict['Peaceful protest'] + subevent_count_dict['Excessive force against protesters']\n",
    "# del subevent_count_dict['Protest with intervention']\n",
    "# del subevent_count_dict['Excessive force against protesters']\n",
    "# del subevent_count_dict['Peaceful protest']\n",
    "\n",
    "subevent_count_dict"
   ]
  },
  {
   "cell_type": "code",
   "execution_count": 230,
   "id": "95c7ec75",
   "metadata": {},
   "outputs": [
    {
     "data": {
      "text/plain": [
       "dict_keys(['Armed clash', 'Remote explosive/landmine/IED', 'Non-state actor overtakes territory', 'Shelling/artillery/missile attack', 'Attack', 'Air/drone strike', 'Peaceful protest', 'Abduction/forced disappearance', 'Government regains territory', 'Disrupted weapons use', 'Change to group/activity', 'Mob violence', 'Suicide bomb', 'Non-violent transfer of territory', 'Protest with intervention', 'Looting/property destruction', 'Arrests', 'Sexual violence', 'Headquarters or base established', 'Grenade', 'Violent demonstration', 'Agreement', 'Excessive force against protesters', 'Other', 'Protests'])"
      ]
     },
     "execution_count": 230,
     "metadata": {},
     "output_type": "execute_result"
    }
   ],
   "source": [
    "subevent_count_dict.keys()"
   ]
  },
  {
   "cell_type": "code",
   "execution_count": 231,
   "id": "4581ed6f",
   "metadata": {},
   "outputs": [],
   "source": [
    "SUBEVENTS = ['Abduction/forced disappearance', 'Agreement', 'Air/drone strike',\n",
    "       'Armed clash', 'Arrests', 'Attack', 'Change to group/activity',\n",
    "       'Chemical weapon', 'Disrupted weapons use',\n",
    "       'Excessive force against protesters',\n",
    "       'Government regains territory', 'Grenade',\n",
    "       'Headquarters or base established', 'Looting/property destruction',\n",
    "       'Mob violence', 'Non-state actor overtakes territory',\n",
    "       'Non-violent transfer of territory', 'Other', 'Peaceful protest',\n",
    "       'Protest with intervention', 'Remote explosive/landmine/IED',\n",
    "       'Sexual violence', 'Shelling/artillery/missile attack',\n",
    "       'Suicide bomb', 'Violent demonstration']"
   ]
  },
  {
   "cell_type": "code",
   "execution_count": 237,
   "id": "9cb2cf66",
   "metadata": {},
   "outputs": [
    {
     "ename": "KeyError",
     "evalue": "'Chemical weapon'",
     "output_type": "error",
     "traceback": [
      "\u001b[0;31m---------------------------------------------------------------------------\u001b[0m",
      "\u001b[0;31mKeyError\u001b[0m                                  Traceback (most recent call last)",
      "\u001b[0;32m<ipython-input-237-25ab5abfa8c4>\u001b[0m in \u001b[0;36m<module>\u001b[0;34m\u001b[0m\n\u001b[0;32m----> 1\u001b[0;31m \u001b[0msubevent_count_dict\u001b[0m\u001b[0;34m[\u001b[0m\u001b[0;34m'Chemical weapon'\u001b[0m\u001b[0;34m]\u001b[0m\u001b[0;34m\u001b[0m\u001b[0;34m\u001b[0m\u001b[0m\n\u001b[0m",
      "\u001b[0;31mKeyError\u001b[0m: 'Chemical weapon'"
     ]
    }
   ],
   "source": [
    "# subevent_count_dict['Chemical weapon']"
   ]
  },
  {
   "cell_type": "code",
   "execution_count": 238,
   "id": "489e6423",
   "metadata": {},
   "outputs": [
    {
     "data": {
      "text/plain": [
       "((1665, 24), (1665,))"
      ]
     },
     "execution_count": 238,
     "metadata": {},
     "output_type": "execute_result"
    }
   ],
   "source": [
    "# build sequence data\n",
    "X = []\n",
    "for k in SUBEVENTS:\n",
    "    try:\n",
    "        v = subevent_count_dict[k].tolist()\n",
    "        X.append(v)\n",
    "    except:\n",
    "        pass\n",
    "    \n",
    "X = np.array(X)\n",
    "X = np.swapaxes(X,0,1)\n",
    "Y = subevent_count_dict['Protests']\n",
    "X.shape,Y.shape"
   ]
  },
  {
   "cell_type": "code",
   "execution_count": 239,
   "id": "81537646",
   "metadata": {},
   "outputs": [
    {
     "name": "stdout",
     "output_type": "stream",
     "text": [
      "550\n"
     ]
    }
   ],
   "source": [
    "window = 14\n",
    "horizon = 1\n",
    "pred_window = 3\n",
    "ii = 0\n",
    "data_X = []\n",
    "data_Y = []\n",
    "for i in range(0,len(X),horizon+pred_window-1): # no overlap of pre_window\n",
    "# for i in range(0,len(X),horizon): # overlap 1\n",
    "#     print('x',i,i+window,' y',i+window,i+window+pred_window)\n",
    "    data_X.append(X[i:i+window])\n",
    "    protest = Y[i+window:i+window+pred_window].sum()\n",
    "#     print(Y[i+window:i+window+pred_window])\n",
    "#     print(X[i:i+window],Y[i+window:i+window+pred_window-1])\n",
    "    data_Y.append(1 if protest > 0 else 0)\n",
    "    if i+window >=len(X) or i+window+pred_window-1 >= len(X):\n",
    "        break\n",
    "    ii+=1\n",
    "print(ii)\n",
    "#     pass\n",
    "\n",
    "data_X = np.array(data_X)\n",
    "data_Y = np.array(data_Y)\n",
    "data_X.shape,data_Y.shape,data_Y.mean()"
   ]
  },
  {
   "cell_type": "code",
   "execution_count": 240,
   "id": "b70ab123",
   "metadata": {},
   "outputs": [
    {
     "data": {
      "text/plain": [
       "((551, 14, 24), (551,), 0.5245009074410163)"
      ]
     },
     "execution_count": 240,
     "metadata": {},
     "output_type": "execute_result"
    }
   ],
   "source": []
  },
  {
   "cell_type": "code",
   "execution_count": 241,
   "id": "1ac11a65",
   "metadata": {},
   "outputs": [
    {
     "name": "stdout",
     "output_type": "stream",
     "text": [
      "acc 0.5942028985507246\n",
      "bacc 0.5921717171717171\n",
      "Area Under PR Curve(AP) 0.6579023227546095\n",
      "auc 0.6292087542087541\n"
     ]
    },
    {
     "data": {
      "text/plain": [
       "(0.6052631578947368, 0.6388888888888888, 0.6216216216216216, None)"
      ]
     },
     "execution_count": 241,
     "metadata": {},
     "output_type": "execute_result"
    }
   ],
   "source": [
    "flat_data_X = data_X.reshape(data_X.shape[0],-1)\n",
    "X_train, X_test, y_train, y_test = train_test_split(flat_data_X, data_Y, stratify=data_Y, test_size=0.25,\n",
    "                                                    shuffle = True,\n",
    "                                                    random_state=42)\n",
    "\n",
    "clf = LogisticRegression(random_state=42,max_iter=5000).fit(X_train, y_train)\n",
    "acc = clf.score(X_test, y_test)\n",
    "print('acc',acc)\n",
    "y_pred = clf.predict(X_test)\n",
    "bacc = balanced_accuracy_score(y_test, y_pred)\n",
    "print('bacc',bacc)\n",
    "y_prob = clf.predict_proba(X_test)[:,1]\n",
    "\n",
    "precision, recall, thresholds = precision_recall_curve(y_test, y_prob)\n",
    "# print(precision, recall, thresholds )\n",
    "area = auc(recall, precision)\n",
    "print(\"Area Under PR Curve(AP)\", area)  #should be same as AP?\n",
    "\n",
    "\n",
    "aucv = roc_auc_score(y_test, y_prob)\n",
    "print('auc',aucv)\n",
    "precision_recall_fscore_support(y_test, y_pred, average='binary')"
   ]
  },
  {
   "cell_type": "code",
   "execution_count": 242,
   "id": "403f52f4",
   "metadata": {},
   "outputs": [
    {
     "name": "stdout",
     "output_type": "stream",
     "text": [
      "acc 0.5579710144927537\n",
      "bacc 0.5555555555555556\n",
      "Area Under PR Curve(AP) 0.642544362443275\n",
      "auc 0.6148989898989898\n"
     ]
    },
    {
     "data": {
      "text/plain": [
       "(0.5714285714285714, 0.6111111111111112, 0.5906040268456376, None)"
      ]
     },
     "execution_count": 242,
     "metadata": {},
     "output_type": "execute_result"
    }
   ],
   "source": [
    "clf = MLPClassifier(random_state=42, max_iter=500).fit(X_train, y_train)\n",
    "\n",
    "acc = clf.score(X_test, y_test)\n",
    "print('acc',acc)\n",
    "y_pred = clf.predict(X_test)\n",
    "bacc = balanced_accuracy_score(y_test, y_pred)\n",
    "print('bacc',bacc)\n",
    "y_prob = clf.predict_proba(X_test)[:,1]\n",
    "\n",
    "precision, recall, thresholds = precision_recall_curve(y_test, y_prob)\n",
    "# print(precision, recall, thresholds )\n",
    "area = auc(recall, precision)\n",
    "print(\"Area Under PR Curve(AP)\", area)  #should be same as AP?\n",
    "\n",
    "\n",
    "aucv = roc_auc_score(y_test, y_prob)\n",
    "print('auc',aucv)\n",
    "precision_recall_fscore_support(y_test, y_pred, average='binary')"
   ]
  },
  {
   "cell_type": "code",
   "execution_count": 243,
   "id": "9808756c",
   "metadata": {},
   "outputs": [
    {
     "name": "stdout",
     "output_type": "stream",
     "text": [
      "acc 0.5507246376811594\n",
      "bacc 0.5473484848484849\n",
      "Area Under PR Curve(AP) 0.592258143487848\n",
      "auc 0.5591329966329966\n"
     ]
    },
    {
     "data": {
      "text/plain": [
       "(0.5625, 0.625, 0.5921052631578947, None)"
      ]
     },
     "execution_count": 243,
     "metadata": {},
     "output_type": "execute_result"
    }
   ],
   "source": [
    "clf = svm.SVC(probability=True)\n",
    "clf.fit(X_train, y_train)\n",
    "acc = clf.score(X_test, y_test)\n",
    "print('acc',acc)\n",
    "y_pred = clf.predict(X_test)\n",
    "\n",
    "bacc = balanced_accuracy_score(y_test, y_pred)\n",
    "print('bacc',bacc)\n",
    "\n",
    "y_prob = clf.predict_proba(X_test)[:,1]\n",
    "\n",
    "precision, recall, thresholds = precision_recall_curve(y_test, y_prob)\n",
    "# print(precision, recall, thresholds )\n",
    "area = auc(recall, precision)\n",
    "print(\"Area Under PR Curve(AP)\", area)  #should be same as AP?\n",
    "\n",
    "\n",
    "aucv = roc_auc_score(y_test, y_prob)\n",
    "print('auc',aucv)\n",
    "precision_recall_fscore_support(y_test, y_pred, average='binary')"
   ]
  },
  {
   "cell_type": "code",
   "execution_count": 171,
   "id": "63065fbe",
   "metadata": {},
   "outputs": [],
   "source": [
    "# y_prob"
   ]
  },
  {
   "cell_type": "code",
   "execution_count": 193,
   "id": "9703b221",
   "metadata": {},
   "outputs": [],
   "source": [
    "# del auc"
   ]
  },
  {
   "cell_type": "code",
   "execution_count": 271,
   "id": "4f545369",
   "metadata": {},
   "outputs": [],
   "source": [
    "mydir = '/home/sdeng/workspace/gdelt_data_preprocess/event/'\n",
    "# file_list = glob.glob(mydir + \"*NI*.json\")\n",
    "# file_list = glob.glob(mydir + \"*CA*.json\")\n",
    "# country_name = 'EG'\n",
    "country_name = 'NI'\n",
    "\n",
    "file_list = glob.glob(mydir + \"*{}*.json\".format(country_name))\n",
    "file_list\n",
    "df_list = []\n",
    "for f in file_list:\n",
    "    cur_df = pd.read_json(f,lines=True)\n",
    "    df_list.append(cur_df)\n",
    "#     print(cur_df.head())\n",
    "#     break\n",
    "    \n",
    "df = pd.concat(df_list, ignore_index=True)\n",
    "df['event_date'] = pd.to_datetime(df['event_date'],format='%Y%m%d' )\n",
    "df.sort_values(by=['event_date'],inplace=True) \n",
    "df = df.loc[df['IsRootEvent'] == 1]\n",
    "\n",
    "df['event_date'] = df.event_date.dt.strftime('%Y-%m-%d')\n",
    "df = df.loc[df['event_date']>='2015-01-01']"
   ]
  },
  {
   "cell_type": "code",
   "execution_count": 272,
   "id": "afcbab33",
   "metadata": {},
   "outputs": [],
   "source": [
    "def getRoot(x):\n",
    "    x = int(x)\n",
    "    if len(str(x)) == 4: # 1128\n",
    "        return x // 100\n",
    "    elif len(str(x)) == 3:\n",
    "        if x // 10 < 20: # 190\n",
    "            return x // 10\n",
    "        else:\n",
    "            return x // 100\n",
    "    else:\n",
    "        return x // 10\n",
    "    \n",
    "def movingaverage(a, n=3) :\n",
    "    padding = []\n",
    "    for i in range(n-1):\n",
    "        padding.append(a[:i+1].mean())\n",
    "    padding = np.array(padding)\n",
    "    ret = np.cumsum(a, dtype=float)\n",
    "    ret[n:] = ret[n:] - ret[:-n]\n",
    "    return np.concatenate((padding, ret[n - 1:] / n),0)\n",
    "\n",
    "df = df.loc[df['EventCode'] != '---'] \n",
    "df['RootEventCode'] = df['EventCode'].apply(lambda x: getRoot(x) )\n",
    " "
   ]
  },
  {
   "cell_type": "code",
   "execution_count": 273,
   "id": "a23ec7cd",
   "metadata": {},
   "outputs": [
    {
     "name": "stdout",
     "output_type": "stream",
     "text": [
      "19 [ 4  9  1  3  2 18  8 17  7 19 11  6 12  5 10 13 15 16 14]\n",
      "n_days = 2192\n"
     ]
    }
   ],
   "source": [
    "start_year = 2015\n",
    "start_month = 1\n",
    "start_day = 1\n",
    "end_year = 2020\n",
    "end_month = 12\n",
    "end_day = 31\n",
    "event_type_column = 'EventCode'\n",
    "event_type_column = 'RootEventCode'\n",
    "delta_value = 1\n",
    "if delta_value == 1:\n",
    "    level = 'day'\n",
    "elif delta_value == 7:\n",
    "    level = 'week'\n",
    "elif delta_value == 14:\n",
    "    level = 'biweek'\n",
    "elif delta_value == 30:\n",
    "    level = 'month'\n",
    "subevents = df[event_type_column].unique()\n",
    "print(len(subevents),subevents)\n",
    "subevent_count_dict = {}\n",
    "start_date = date(start_year, start_month, start_day)\n",
    "end_date = date(end_year, end_month, end_day)\n",
    "delta = timedelta(days=delta_value)\n",
    "n_days = 0\n",
    "last_date = start_date - delta\n",
    "while start_date <= end_date:\n",
    "#     print('last_date',last_date,'start_date',start_date )\n",
    "    last_date = start_date\n",
    "    start_date += delta\n",
    "    n_days += 1\n",
    "print('n_days =',n_days)\n",
    "# print('n_days =',len(df['event_date'].unique()))\n",
    "for v in subevents:\n",
    "    subevent_count_dict[v] = np.array([0 for i in range(n_days)])\n"
   ]
  },
  {
   "cell_type": "code",
   "execution_count": 274,
   "id": "be7566db",
   "metadata": {},
   "outputs": [
    {
     "name": "stdout",
     "output_type": "stream",
     "text": [
      "# 7 2915385\n",
      "# 1938 2915385\n",
      "# 1691 2915385\n",
      "# 2160 2915385\n",
      "# 1214 2915385\n",
      "# 1686 2915385\n",
      "# 931 2915385\n",
      "# 1543 2915385\n",
      "# 1423 2915385\n",
      "# 1274 2915385\n",
      "# 1362 2915385\n",
      "day_i = 2192\n"
     ]
    }
   ],
   "source": [
    "# for loop day.... save count of each subevent.\n",
    "start_date = date(start_year, start_month, start_day)\n",
    "end_date = date(end_year, end_month, end_day)\n",
    "delta = timedelta(days=delta_value)\n",
    "day_i = 0\n",
    "last_date = start_date - delta\n",
    "# print('last_date',last_date,'start_date',start_date,'end_date',end_date)\n",
    "\n",
    "while start_date <= end_date:\n",
    "#     print('last_date',last_date,'start_date',start_date )\n",
    "    last_date_str = last_date.strftime(\"%Y-%m-%d\") #(\"%d %B %Y\")\n",
    "    date_str = start_date.strftime(\"%Y-%m-%d\")\n",
    "#     print('last_date_str',last_date_str,' --- date_str',date_str)\n",
    "    df_day = df.loc[(df['event_date'] > last_date_str) & (df['event_date'] <= date_str)]\n",
    "    if day_i%200==0:\n",
    "        print('#',len(df_day),len(df))\n",
    "#         print(df_day['sub_event_type'] )\n",
    "    df_count = df_day[event_type_column].value_counts().rename_axis('unique_values').reset_index(name='counts')\n",
    "#     print('df_count',df_count,df)\n",
    "    for i,row in df_count.iterrows():\n",
    "        subevent_count_dict[row['unique_values']][day_i] = row['counts']\n",
    "    last_date = start_date\n",
    "    start_date += delta\n",
    "    day_i += 1\n",
    "print('day_i =',day_i)"
   ]
  },
  {
   "cell_type": "code",
   "execution_count": 286,
   "id": "cb8d7361",
   "metadata": {},
   "outputs": [
    {
     "data": {
      "text/plain": [
       "((2192, 19), (2192,), 30.0)"
      ]
     },
     "execution_count": 286,
     "metadata": {},
     "output_type": "execute_result"
    }
   ],
   "source": [
    "subevent_count_dict\n",
    "SUBEVENTS = [i+1 for i in range(20)]\n",
    "SUBEVENTS\n",
    "\n",
    "# build sequence data\n",
    "X = []\n",
    "for k in SUBEVENTS:\n",
    "    try:\n",
    "        v = subevent_count_dict[k].tolist()\n",
    "        X.append(v)\n",
    "    except:\n",
    "        pass\n",
    "    \n",
    "X = np.array(X)\n",
    "X = np.swapaxes(X,0,1)\n",
    "Y = subevent_count_dict[14]\n",
    "y_threshod = np.percentile(Y, 95)#Y.mean()\n",
    "\n",
    "X.shape,Y.shape, y_threshod"
   ]
  },
  {
   "cell_type": "code",
   "execution_count": 287,
   "id": "94e811fa",
   "metadata": {},
   "outputs": [
    {
     "name": "stdout",
     "output_type": "stream",
     "text": [
      "726\n"
     ]
    },
    {
     "data": {
      "text/plain": [
       "((727, 14, 19), (727,), 0.7455295735900963)"
      ]
     },
     "execution_count": 287,
     "metadata": {},
     "output_type": "execute_result"
    }
   ],
   "source": [
    "window = 14\n",
    "horizon = 1\n",
    "pred_window = 3\n",
    "ii = 0\n",
    "data_X = []\n",
    "data_Y = []\n",
    "for i in range(0,len(X),horizon+pred_window-1): # no overlap of pre_window\n",
    "# for i in range(0,len(X),horizon): # overlap 1\n",
    "#     print('x',i,i+window,' y',i+window,i+window+pred_window)\n",
    "    data_X.append(X[i:i+window])\n",
    "    protest = Y[i+window:i+window+pred_window].sum()\n",
    "#     print(Y[i+window:i+window+pred_window])\n",
    "#     print(X[i:i+window],Y[i+window:i+window+pred_window-1])\n",
    "    data_Y.append(1 if protest > y_threshod else 0)\n",
    "    if i+window >=len(X) or i+window+pred_window-1 >= len(X):\n",
    "        break\n",
    "    ii+=1\n",
    "print(ii)\n",
    "#     pass\n",
    "\n",
    "data_X = np.array(data_X)\n",
    "data_Y = np.array(data_Y)\n",
    "data_X.shape,data_Y.shape,data_Y.mean()"
   ]
  },
  {
   "cell_type": "code",
   "execution_count": 288,
   "id": "49c8dfee",
   "metadata": {},
   "outputs": [
    {
     "name": "stdout",
     "output_type": "stream",
     "text": [
      "acc 0.6483516483516484\n",
      "bacc 0.6064578005115089\n",
      "Area Under PR Curve(AP) 0.8675722643403999\n",
      "auc 0.6663203324808183\n"
     ]
    },
    {
     "name": "stderr",
     "output_type": "stream",
     "text": [
      "/home/sdeng/anaconda2/envs/jupyter/lib/python3.7/site-packages/sklearn/linear_model/_logistic.py:764: ConvergenceWarning: lbfgs failed to converge (status=1):\n",
      "STOP: TOTAL NO. of ITERATIONS REACHED LIMIT.\n",
      "\n",
      "Increase the number of iterations (max_iter) or scale the data as shown in:\n",
      "    https://scikit-learn.org/stable/modules/preprocessing.html\n",
      "Please also refer to the documentation for alternative solver options:\n",
      "    https://scikit-learn.org/stable/modules/linear_model.html#logistic-regression\n",
      "  extra_warning_msg=_LOGISTIC_SOLVER_CONVERGENCE_MSG)\n"
     ]
    },
    {
     "data": {
      "text/plain": [
       "(0.8103448275862069, 0.6911764705882353, 0.746031746031746, None)"
      ]
     },
     "execution_count": 288,
     "metadata": {},
     "output_type": "execute_result"
    }
   ],
   "source": [
    "flat_data_X = data_X.reshape(data_X.shape[0],-1)\n",
    "X_train, X_test, y_train, y_test = train_test_split(flat_data_X, data_Y, stratify=data_Y, test_size=0.25,\n",
    "                                                    shuffle = True,\n",
    "                                                    random_state=42)\n",
    "\n",
    "clf = LogisticRegression(random_state=42,max_iter=5000).fit(X_train, y_train)\n",
    "acc = clf.score(X_test, y_test)\n",
    "print('acc',acc)\n",
    "y_pred = clf.predict(X_test)\n",
    "bacc = balanced_accuracy_score(y_test, y_pred)\n",
    "print('bacc',bacc)\n",
    "y_prob = clf.predict_proba(X_test)[:,1]\n",
    "\n",
    "precision, recall, thresholds = precision_recall_curve(y_test, y_prob)\n",
    "# print(precision, recall, thresholds )\n",
    "area = auc(recall, precision)\n",
    "print(\"Area Under PR Curve(AP)\", area)  #should be same as AP?\n",
    "\n",
    "\n",
    "aucv = roc_auc_score(y_test, y_prob)\n",
    "print('auc',aucv)\n",
    "precision_recall_fscore_support(y_test, y_pred, average='binary')"
   ]
  },
  {
   "cell_type": "code",
   "execution_count": 278,
   "id": "945786eb",
   "metadata": {},
   "outputs": [
    {
     "name": "stdout",
     "output_type": "stream",
     "text": [
      "acc 0.8241758241758241\n",
      "bacc 0.5294117647058824\n",
      "Area Under PR Curve(AP) 0.927138454382989\n",
      "auc 0.7927265500794913\n"
     ]
    },
    {
     "data": {
      "text/plain": [
       "(0.8222222222222222, 1.0, 0.9024390243902439, None)"
      ]
     },
     "execution_count": 278,
     "metadata": {},
     "output_type": "execute_result"
    }
   ],
   "source": [
    "clf = svm.SVC(probability=True)\n",
    "clf.fit(X_train, y_train)\n",
    "acc = clf.score(X_test, y_test)\n",
    "print('acc',acc)\n",
    "y_pred = clf.predict(X_test)\n",
    "\n",
    "bacc = balanced_accuracy_score(y_test, y_pred)\n",
    "print('bacc',bacc)\n",
    "\n",
    "y_prob = clf.predict_proba(X_test)[:,1]\n",
    "\n",
    "precision, recall, thresholds = precision_recall_curve(y_test, y_prob)\n",
    "# print(precision, recall, thresholds )\n",
    "area = auc(recall, precision)\n",
    "print(\"Area Under PR Curve(AP)\", area)  #should be same as AP?\n",
    "\n",
    "\n",
    "aucv = roc_auc_score(y_test, y_prob)\n",
    "print('auc',aucv)\n",
    "precision_recall_fscore_support(y_test, y_pred, average='binary')"
   ]
  },
  {
   "cell_type": "code",
   "execution_count": 279,
   "id": "1fb589f3",
   "metadata": {},
   "outputs": [
    {
     "name": "stdout",
     "output_type": "stream",
     "text": [
      "acc 0.7417582417582418\n",
      "bacc 0.6033386327503975\n",
      "Area Under PR Curve(AP) 0.8980921749982628\n",
      "auc 0.6708068362480127\n"
     ]
    },
    {
     "data": {
      "text/plain": [
       "(0.8531468531468531, 0.8243243243243243, 0.8384879725085911, None)"
      ]
     },
     "execution_count": 279,
     "metadata": {},
     "output_type": "execute_result"
    }
   ],
   "source": [
    "clf = MLPClassifier(random_state=42, max_iter=500).fit(X_train, y_train)\n",
    "\n",
    "acc = clf.score(X_test, y_test)\n",
    "print('acc',acc)\n",
    "y_pred = clf.predict(X_test)\n",
    "bacc = balanced_accuracy_score(y_test, y_pred)\n",
    "print('bacc',bacc)\n",
    "y_prob = clf.predict_proba(X_test)[:,1]\n",
    "\n",
    "precision, recall, thresholds = precision_recall_curve(y_test, y_prob)\n",
    "# print(precision, recall, thresholds )\n",
    "area = auc(recall, precision)\n",
    "print(\"Area Under PR Curve(AP)\", area)  #should be same as AP?\n",
    "\n",
    "\n",
    "aucv = roc_auc_score(y_test, y_prob)\n",
    "print('auc',aucv)\n",
    "precision_recall_fscore_support(y_test, y_pred, average='binary')"
   ]
  },
  {
   "cell_type": "code",
   "execution_count": null,
   "id": "880f7151",
   "metadata": {},
   "outputs": [],
   "source": []
  }
 ],
 "metadata": {
  "kernelspec": {
   "display_name": "Python 3",
   "language": "python",
   "name": "python3"
  },
  "language_info": {
   "codemirror_mode": {
    "name": "ipython",
    "version": 3
   },
   "file_extension": ".py",
   "mimetype": "text/x-python",
   "name": "python",
   "nbconvert_exporter": "python",
   "pygments_lexer": "ipython3",
   "version": "3.7.10"
  }
 },
 "nbformat": 4,
 "nbformat_minor": 5
}
