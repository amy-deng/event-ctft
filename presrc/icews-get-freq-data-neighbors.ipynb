{
 "cells": [
  {
   "cell_type": "code",
   "execution_count": 69,
   "id": "427bdbd6",
   "metadata": {},
   "outputs": [],
   "source": [
    "import pandas as pd\n",
    "import numpy as np\n",
    "# import matplotlib as mpl\n",
    "# import matplotlib.pyplot as plt\n",
    "from datetime import date, timedelta\n",
    "# from matplotlib.pyplot import cm\n",
    "from scipy.stats import pearsonr,spearmanr\n",
    "import sys\n",
    "import json\n",
    "# from minepy import MINE\n",
    "# from minepy import pstats, cstats\n",
    "import time\n",
    "import pickle "
   ]
  },
  {
   "cell_type": "code",
   "execution_count": 148,
   "id": "69110e9b",
   "metadata": {},
   "outputs": [
    {
     "data": {
      "text/plain": [
       "13011"
      ]
     },
     "execution_count": 148,
     "metadata": {},
     "output_type": "execute_result"
    }
   ],
   "source": [
    "event_path = '../data/RUS.top10cities.2010-2017.event-stat.json'\n",
    "event_path = '../data/IND.top15cities.2010-2017.event-stat.json'\n",
    "event_path = '../data/EGY.top10cities.2010-2017.event-stat.json'\n",
    "event_path = '../data/THA.top10cities.2010-2017.event-stat.json'\n",
    "event_path = '../data/Yemen.top15.2015-2021.event-stat.json'\n",
    "event_path = '../data/Syria.top10.2017-2021.event-stat.json'\n",
    "\n",
    "df = pd.read_json(event_path, lines=True)\n",
    "cities = df['city'].value_counts().index.tolist()\n",
    "# [------] * n loc\n",
    "# # loc * # window * # event type\n",
    "# # m,w,type n\n",
    "# labels\n",
    "# # loc * protest?\n",
    "# # m,1\n",
    "# n \n",
    "def getRoot(x):\n",
    "    x = int(x)\n",
    "    if len(str(x)) == 4: # 1128\n",
    "        return x // 100\n",
    "    elif len(str(x)) == 3:\n",
    "        if x // 10 < 20: # 190\n",
    "            return x // 10\n",
    "        else:\n",
    "            return x // 100\n",
    "    else:\n",
    "        return x // 10\n",
    "\n",
    "class NpEncoder(json.JSONEncoder):\n",
    "    def default(self, obj):\n",
    "        if isinstance(obj, np.integer):\n",
    "            return int(obj)\n",
    "        elif isinstance(obj, np.floating):\n",
    "            return float(obj)\n",
    "        elif isinstance(obj, np.ndarray):\n",
    "            return obj.tolist()\n",
    "        else:\n",
    "            return super(NpEncoder, self).default(obj)\n",
    "df.tail()\n",
    "len(df)"
   ]
  },
  {
   "cell_type": "code",
   "execution_count": 149,
   "id": "4fc41683",
   "metadata": {},
   "outputs": [
    {
     "name": "stdout",
     "output_type": "stream",
     "text": [
      "2017-01-01 2021-07-23\n",
      "Idleb\n",
      "Aleppo\n",
      "Deir ez Zor\n",
      "Hama\n",
      "Dara\n",
      "Al Hasakeh\n",
      "Ar Raqqa\n",
      "Rural Damascus\n",
      "Homs\n",
      "Damascus\n"
     ]
    }
   ],
   "source": [
    "# start_year = 2010\n",
    "# end_year = 2017\n",
    "\n",
    "# s_year = int(start_year)\n",
    "# e_year = int(end_year)\n",
    "\n",
    "# start = str(s_year) + '-01-01'\n",
    "# if e_year == 2017:\n",
    "#     end = str(e_year) + '-03-26'\n",
    "# else:\n",
    "#     end = str(e_year) + '-12-31'\n",
    "\n",
    "start = '2017-01-01'\n",
    "# start = '2015-01-01'\n",
    "\n",
    "end = '2021-07-23'\n",
    "\n",
    "print(start, end)\n",
    "# for city in cities:\n",
    "# outf = 'event.json'\n",
    "# outf = open(outf,'a')\n",
    "# df['RootEventCode'] = df['CAMEO Code'].apply(lambda x: getRoot(x) )\n",
    "event_vector_city = []\n",
    "for city in cities:\n",
    "    print(city)\n",
    "    event_vector_date = []\n",
    "    for date_i in pd.date_range(start, end, freq='1D'):\n",
    "        event_date = str(date_i.strftime(\"%Y-%m-%d\"))\n",
    "#         print('event_date',event_date,city)\n",
    "        filter_events = df.loc[ (df['event_date'] == event_date ) & (df['city']== city)] \n",
    "        if filter_events.empty:\n",
    "            event_vector = [0 for i in range(25)]\n",
    "#             continue\n",
    "        else:\n",
    "            event_vector = [0 for i in range(25)]\n",
    "            event_dict = filter_events['event_count'].values[0]\n",
    "            for k in event_dict:\n",
    "                event_vector[int(k)-1] = event_dict[k]\n",
    "        event_vector_date.append(event_vector)\n",
    "    event_vector_city.append(event_vector_date)\n",
    "#             print('yes',event_dict,event_vector)"
   ]
  },
  {
   "cell_type": "code",
   "execution_count": 150,
   "id": "eb0baf73",
   "metadata": {},
   "outputs": [
    {
     "data": {
      "text/plain": [
       "((10, 1665, 25), (10, 1665))"
      ]
     },
     "execution_count": 150,
     "metadata": {},
     "output_type": "execute_result"
    }
   ],
   "source": [
    "event_vector_city = np.array(event_vector_city)\n",
    "event_vector_city.shape,event_vector_city[:,:,13].shape"
   ]
  },
  {
   "cell_type": "code",
   "execution_count": 156,
   "id": "2d970718",
   "metadata": {},
   "outputs": [],
   "source": [
    " \n",
    "with open('../data/Syria/collab-t10-2010-freq.pkl','wb') as f:\n",
    "    pickle.dump(event_vector_city,f)\n",
    "    \n",
    "# with open('../data/Syria/collab-t10-2010-freq.pkl','rb') as f:\n",
    "#     data = pickle.load(f)\n",
    "    \n",
    "    \n",
    "\n",
    "# with open('../data/Yemen/collab-t15-2010-freq.pkl','wb') as f:\n",
    "#     pickle.dump(event_vector_city,f)\n",
    "    \n",
    "# with open('../data/Yemen/collab-t15-2010-freq.pkl','rb') as f:\n",
    "#     data = pickle.load(f)"
   ]
  },
  {
   "cell_type": "code",
   "execution_count": 74,
   "id": "fefee24d",
   "metadata": {},
   "outputs": [],
   "source": [
    " \n",
    "with open('../data/PAK/collab-t10-2010-freq.pkl','wb') as f:\n",
    "    pickle.dump(event_vector_city,f)\n",
    "    \n",
    "with open('../data/PAK/collab-t10-2010-freq.pkl','rb') as f:\n",
    "    data = pickle.load(f)"
   ]
  },
  {
   "cell_type": "code",
   "execution_count": 89,
   "id": "b5f03e9d",
   "metadata": {},
   "outputs": [
    {
     "data": {
      "text/plain": [
       "(10, 1665, 25)"
      ]
     },
     "execution_count": 89,
     "metadata": {},
     "output_type": "execute_result"
    }
   ],
   "source": [
    "data.shape"
   ]
  },
  {
   "cell_type": "code",
   "execution_count": 157,
   "id": "7e04d7c0",
   "metadata": {},
   "outputs": [
    {
     "data": {
      "text/plain": [
       "(array([0.11951952, 0.12312312, 0.05465465, 0.01081081, 0.06486486,\n",
       "        0.06966967, 0.03603604, 0.02522523, 0.00660661, 0.0018018 ]),\n",
       " (10, 1665, 25))"
      ]
     },
     "execution_count": 157,
     "metadata": {},
     "output_type": "execute_result"
    }
   ],
   "source": [
    "data2 = data[:,:,18]\n",
    "data2.mean(1),data.shape\n",
    "\n",
    "data2 = np.where(data2 > 0., 1., 0.)\n",
    "data2.mean(1),data.shape\n"
   ]
  },
  {
   "cell_type": "code",
   "execution_count": 142,
   "id": "2e094b6e",
   "metadata": {},
   "outputs": [
    {
     "data": {
      "text/plain": [
       "(15, 2396, 25)"
      ]
     },
     "execution_count": 142,
     "metadata": {},
     "output_type": "execute_result"
    }
   ],
   "source": [
    "target = data[7:8] \n",
    "left = data[:7]\n",
    "\n",
    "right = data[8:]\n",
    "left.shape,right.shape\n",
    "new = np.concatenate((target,left,right))\n",
    "new.shape\n",
    "# target[:,18].mean()"
   ]
  },
  {
   "cell_type": "code",
   "execution_count": 144,
   "id": "19d0dc4f",
   "metadata": {},
   "outputs": [],
   "source": [
    "# new[0,:,18].mean()\n",
    "with open('../data/Yemen/collab-t15-2010-freq.pkl','wb') as f:\n",
    "    pickle.dump(new,f)"
   ]
  }
 ],
 "metadata": {
  "kernelspec": {
   "display_name": "Python 3",
   "language": "python",
   "name": "python3"
  },
  "language_info": {
   "codemirror_mode": {
    "name": "ipython",
    "version": 3
   },
   "file_extension": ".py",
   "mimetype": "text/x-python",
   "name": "python",
   "nbconvert_exporter": "python",
   "pygments_lexer": "ipython3",
   "version": "3.7.10"
  }
 },
 "nbformat": 4,
 "nbformat_minor": 5
}
